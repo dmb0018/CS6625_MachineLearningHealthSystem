{
  "nbformat": 4,
  "nbformat_minor": 0,
  "metadata": {
    "colab": {
      "provenance": [],
      "authorship_tag": "ABX9TyNl04s0GXo0xvkGGs5sN+Nq",
      "include_colab_link": true
    },
    "kernelspec": {
      "name": "python3",
      "display_name": "Python 3"
    },
    "language_info": {
      "name": "python"
    }
  },
  "cells": [
    {
      "cell_type": "markdown",
      "metadata": {
        "id": "view-in-github",
        "colab_type": "text"
      },
      "source": [
        "<a href=\"https://colab.research.google.com/github/dmb0018/CS6625_MachineLearningHealthSystem/blob/main/HealthSystemMachineLearning.ipynb\" target=\"_parent\"><img src=\"https://colab.research.google.com/assets/colab-badge.svg\" alt=\"Open In Colab\"/></a>"
      ]
    },
    {
      "cell_type": "markdown",
      "source": [
        "David Bryant\n",
        "CS 6625 - Specialized Study\n",
        "Machine Learning Health System"
      ],
      "metadata": {
        "id": "CED2aff4N5j7"
      }
    },
    {
      "cell_type": "code",
      "source": [
        "#Import information from google drive\n",
        "from google.colab import drive\n",
        "drive.mount('/content/drive')"
      ],
      "metadata": {
        "colab": {
          "base_uri": "https://localhost:8080/"
        },
        "id": "qkzSPJaORId8",
        "outputId": "c9d5407e-f466-4b3e-91a3-69f370691ecc"
      },
      "execution_count": 2,
      "outputs": [
        {
          "output_type": "stream",
          "name": "stdout",
          "text": [
            "Mounted at /content/drive\n"
          ]
        }
      ]
    },
    {
      "cell_type": "code",
      "source": [
        "import pandas as pd\n",
        "import numpy as np\n",
        "import xgboost as xgb\n",
        "from sklearn.model_selection import train_test_split\n",
        "from sklearn.metrics import accuracy_score, average_precision_score, precision_score\n",
        "from sklearn.preprocessing import LabelEncoder\n",
        "from sklearn.metrics import confusion_matrix\n",
        "from seaborn import heatmap\n",
        "\n",
        "\n",
        "# Upload made up data that will be used to train model\n",
        "test_data_file = \"/content/drive/My Drive/MadeUpData.csv\"\n",
        "df_testdata = pd.read_csv(test_data_file)\n",
        "\n",
        "# Drop patient number column as it is unneccessary in model\n",
        "df_testdata.drop(df_testdata.columns[0],axis=1,inplace=True)\n",
        "\n",
        "# Create numerical categories for each feature as well as the target of the model\n",
        "df_testdata = df_testdata.astype('category')\n",
        "df_testdata['FamilyHistory'] = df_testdata['FamilyHistory'].cat.codes\n",
        "df_testdata['PersonalHistory'] = df_testdata['PersonalHistory'].cat.codes\n",
        "df_testdata['Pain'] = df_testdata['Pain'].cat.codes\n",
        "df_testdata['Depression'] = df_testdata['Depression'].cat.codes\n",
        "df_testdata['Anxiety'] = df_testdata['Anxiety'].cat.codes\n",
        "df_testdata['Confusion'] = df_testdata['Confusion'].cat.codes\n",
        "df_testdata['Fatigue'] = df_testdata['Fatigue'].cat.codes\n",
        "df_testdata['Breathlessness'] = df_testdata['Breathlessness'].cat.codes\n",
        "df_testdata['Insomnia'] = df_testdata['Insomnia'].cat.codes\n",
        "df_testdata['Nausea'] = df_testdata['Nausea'].cat.codes\n",
        "df_testdata['Constipation'] = df_testdata['Constipation'].cat.codes\n",
        "df_testdata['Diarrhea'] = df_testdata['Diarrhea'].cat.codes\n",
        "df_testdata['Anorexia'] = df_testdata['Anorexia'].cat.codes\n",
        "df_testdata['Diagnosis'] = df_testdata['Diagnosis'].cat.codes\n",
        "\n",
        "# Take the target out of the dataframe and put it in a separate variable\n",
        "y = df_testdata['Diagnosis']\n",
        "df_testdata.drop(df_testdata.columns[13],axis=1,inplace=True)\n",
        "X = df_testdata\n",
        "\n",
        "# Fit the target\n",
        "label_encoder = LabelEncoder()\n",
        "label_encoder = label_encoder.fit(y)\n",
        "y = label_encoder.transform(y)"
      ],
      "metadata": {
        "id": "xk6tvwSO77wn"
      },
      "execution_count": 4,
      "outputs": []
    },
    {
      "cell_type": "code",
      "source": [
        "# Create parameters for model\n",
        "param = {\n",
        "    'max_depth': 2,  # the maximum depth of each tree\n",
        "    'eta': 0.3,  # training step\n",
        "    'objective': 'multi:softprob',  # error evaluation for multiclass training\n",
        "    'num_class': 5}  # the number of classes that exist in this datset\n",
        "num_round = 30  # the number of training iterations\n",
        "\n",
        "# Create arrays and counters for loop\n",
        "range_number = 500\n",
        "accuracy_array = [0]*range_number\n",
        "precision_array = [0] * range_number\n",
        "perfect_array = [0] * 2\n",
        "perfect_counter = 0\n",
        "current_max = 0\n",
        "\n",
        "# Create loop to try a large number of different training sets to confirm accuracy level of model\n",
        "for x in range(range_number):\n",
        "  X_train, X_test, y_train, y_test = train_test_split(X, y, test_size=0.2, random_state=x) #Random state = x being only part that is different every loop\n",
        "  #train model\n",
        "  dtrain = xgb.DMatrix(X_train, label=y_train)\n",
        "  dtest = xgb.DMatrix(X_test, label=y_test)\n",
        "  model = xgb.train(param, dtrain, num_round)\n",
        "\n",
        "  #Use model to make predictions and store precision/accuracy of predictions\n",
        "  preds = model.predict(dtest)\n",
        "  best_predictions = np.asarray([np.argmax(line) for line in preds])\n",
        "  precision_array[x] = precision_score(y_test, best_predictions, average='macro',zero_division=True)\n",
        "  accuracy_array[x] = accuracy_score(y_test, best_predictions)\n",
        "  # Update the current max accuracy if it is higher than previous max accuracy\n",
        "  if accuracy_array[x] > current_max:\n",
        "    max_location = x\n",
        "    current_max = accuracy_array[x]\n",
        "  # Keep location of any seed values that provide an accuracy of 1\n",
        "  if accuracy_array[x] == 1:\n",
        "    perfect_array[perfect_counter] = x\n",
        "    perfect_counter = perfect_counter + 1\n",
        "\n",
        "# Calculate and display average precision of all training models using 500 different seeds\n",
        "average_precision = sum(precision_array) / len(precision_array)\n",
        "print(\"Average precision of 500 random seeds for the training values:\", average_precision)\n",
        "\n",
        "# Calculate and display average accuracy of all training models using 500 different seeds\n",
        "average_accuracy = sum(accuracy_array) / len(accuracy_array)\n",
        "print(\"Average accuracy of 500 random seeds for the training values\", average_accuracy)\n",
        "\n",
        "# Provide values for random seed that create an accuracy of 1 for the model\n",
        "print(\"Values for random seed that provide a perfect accuracy of 1:\", perfect_array)\n"
      ],
      "metadata": {
        "colab": {
          "base_uri": "https://localhost:8080/"
        },
        "id": "sNwSewSjgJpT",
        "outputId": "db337e90-a941-4897-ca63-c7d2a7d2c4ba"
      },
      "execution_count": 5,
      "outputs": [
        {
          "output_type": "stream",
          "name": "stdout",
          "text": [
            "Average precision of 500 random seeds for the training values: 0.7323684060384061\n",
            "Average accuracy of 500 random seeds for the training values 0.7222000000000005\n",
            "Values for random seed that provide a perfect accuracy of 1: [100, 468]\n"
          ]
        }
      ]
    },
    {
      "cell_type": "code",
      "source": [
        "# Train\n",
        "X_train, X_test, y_train, y_test = train_test_split(X, y, test_size=0.2, random_state=100)\n",
        "dtrain = xgb.DMatrix(X_train, label=y_train)\n",
        "dtest = xgb.DMatrix(X_test, label=y_test)\n",
        "model = xgb.train(param, dtrain, num_round)\n",
        "\n",
        "\n",
        "# Test\n",
        "model_predictions = [np.argmax(prediction) for prediction in model.predict(dtest)]\n",
        "print(\"The predictions are as follows:\", model_predictions)\n",
        "print(\"The actual values are as follows: \", y_test)\n",
        "\n",
        "# results\n",
        "print(\"precision:\", precision_score(y_test, model_predictions,average='micro'))\n",
        "print(\"accuracy:\", accuracy_score(y_test, model_predictions))\n",
        "conf_mat = confusion_matrix(y_test, model_predictions)\n",
        "ax = heatmap(conf_mat, annot=True, fmt='.4g')\n",
        "ax.set(ylabel=\"Actual\", xlabel=\"Predicted\", title=\"Disease Prediction Confusion Matrix\")"
      ],
      "metadata": {
        "colab": {
          "base_uri": "https://localhost:8080/",
          "height": 601
        },
        "id": "Rpde70vWhUbl",
        "outputId": "30b3b2d6-5d70-43a2-ed65-82d6ffae3dce"
      },
      "execution_count": 6,
      "outputs": [
        {
          "output_type": "stream",
          "name": "stdout",
          "text": [
            "The predictions are as follows: [4, 3, 1, 4, 4, 1, 4, 4, 1, 1, 4, 2, 4, 1, 4, 4, 1, 3, 4, 3]\n",
            "The actual values are as follows:  [4 3 1 4 4 1 4 4 1 1 4 2 4 1 4 4 1 3 4 3]\n",
            "precision: 1.0\n",
            "accuracy: 1.0\n"
          ]
        },
        {
          "output_type": "execute_result",
          "data": {
            "text/plain": [
              "[Text(50.722222222222214, 0.5, 'Actual'),\n",
              " Text(0.5, 23.52222222222222, 'Predicted'),\n",
              " Text(0.5, 1.0, 'Disease Prediction Confusion Matrix')]"
            ]
          },
          "metadata": {},
          "execution_count": 6
        },
        {
          "output_type": "display_data",
          "data": {
            "text/plain": [
              "<Figure size 640x480 with 2 Axes>"
            ],
            "image/png": "[encoded data removed]"
          },
          "metadata": {}
        }
      ]
    },
    {
      "cell_type": "code",
      "source": [
        "#Train\n",
        "X_train, X_test, y_train, y_test = train_test_split(X, y, test_size=0.2, random_state=6)\n",
        "dtrain = xgb.DMatrix(X_train, label=y_train)\n",
        "dtest = xgb.DMatrix(X_test, label=y_test)\n",
        "model = xgb.train(param, dtrain, num_round)\n",
        "\n",
        "\n",
        "# Test\n",
        "model_predictions = [np.argmax(prediction) for prediction in model.predict(dtest)]\n",
        "\n",
        "# Display the predicted values as well as the actual values\n",
        "print(\"The predictions are as follows:\", model_predictions)\n",
        "print(\"The actual values are as follows: \", y_test)\n",
        "\n",
        "# Display results of model\n",
        "print(\"precision:\", precision_score(y_test, model_predictions,average='micro'))\n",
        "print(\"accuracy:\", accuracy_score(y_test, model_predictions))\n",
        "conf_mat = confusion_matrix(y_test, model_predictions)\n",
        "ax = heatmap(conf_mat, annot=True, fmt='.4g')\n",
        "ax.set(ylabel=\"Actual\", xlabel=\"Predicted\", title=\"Disease Prediction Confusion Matrix\")"
      ],
      "metadata": {
        "colab": {
          "base_uri": "https://localhost:8080/",
          "height": 601
        },
        "id": "DH8UxPcPMD-c",
        "outputId": "eda0547d-41e3-436a-d3c3-48f4709270a8"
      },
      "execution_count": 7,
      "outputs": [
        {
          "output_type": "stream",
          "name": "stdout",
          "text": [
            "The predictions are as follows: [1, 4, 2, 4, 4, 4, 4, 4, 1, 4, 4, 1, 4, 4, 1, 1, 3, 2, 4, 4]\n",
            "The actual values are as follows:  [1 4 2 4 3 4 2 4 0 4 3 1 4 4 1 1 3 4 4 4]\n",
            "precision: 0.75\n",
            "accuracy: 0.75\n"
          ]
        },
        {
          "output_type": "execute_result",
          "data": {
            "text/plain": [
              "[Text(50.722222222222214, 0.5, 'Actual'),\n",
              " Text(0.5, 23.52222222222222, 'Predicted'),\n",
              " Text(0.5, 1.0, 'Disease Prediction Confusion Matrix')]"
            ]
          },
          "metadata": {},
          "execution_count": 7
        },
        {
          "output_type": "display_data",
          "data": {
            "text/plain": [
              "<Figure size 640x480 with 2 Axes>"
            ],
            "image/png": "[encoded data removed]"
          },
          "metadata": {}
        }
      ]
    },
    {
      "cell_type": "code",
      "source": [
        "# Upload symptoms and prevelence csv file\n",
        "path_train = \"/content/drive/My Drive/RawData.csv\"\n",
        "df = pd.read_csv(path_train)\n",
        "\n",
        "#Make display show all rows and columns\n",
        "pd.options.display.max_rows = None\n",
        "pd.options.display.max_columns = None\n",
        "\n",
        "# Create arrays of diseases, prevalence and incidence of each disease\n",
        "diseases = df['Disease']\n",
        "prevalence = df['Prevalence']\n",
        "incidence = df['Incidence']\n",
        "\n",
        "# Find totals for prevalence and incidence of the five different diseases\n",
        "prevalence_total = prevalence.sum()\n",
        "incidence_total = incidence.sum()\n",
        "\n",
        "# Create new columns in data frame that show how much each disease is of the total percent\n",
        "df['PrevalencePercent'] = df['Prevalence']/prevalence_total\n",
        "df['IncidencePercent'] = df['Incidence']/incidence_total\n",
        "\n",
        "US_population_2019 = 328239523 # Source - https://www.census.gov/newsroom/press-releases/2019/popest-nation.html\n",
        "df['PrevalenceRate'] = df['Prevalence']/US_population_2019\n",
        "df['IncidenceRate'] = df['Incidence']/US_population_2019\n",
        "\n",
        "print(df.head(5))"
      ],
      "metadata": {
        "colab": {
          "base_uri": "https://localhost:8080/"
        },
        "id": "vWKPH76iQITZ",
        "outputId": "d8467cf2-5bbf-4513-8d29-0d03160d1c2f"
      },
      "execution_count": 9,
      "outputs": [
        {
          "output_type": "stream",
          "name": "stdout",
          "text": [
            "  Disease  Pain  Depression  Anxiety  Confusion  Fatigue  Breathlessness  \\\n",
            "0  Cancer  65.5        40.0     46.0       49.5     61.0            40.0   \n",
            "1    AIDS  71.5        46.0     21.0       47.5     69.5            36.5   \n",
            "2      HD  59.0        22.5     49.0       25.0     75.5            74.0   \n",
            "3    COPD  55.5        54.0     63.0       25.5     74.0            92.5   \n",
            "4      RD  48.5        32.5     54.5       25.0     80.0            36.5   \n",
            "\n",
            "   Insomnia  Nausea  Constipation  Diarrhea  Anorexia  Prevalence  \\\n",
            "0        39    37.0          44.0        16      61.0    11896983   \n",
            "1        74    46.0          34.5        60      51.0     1743128   \n",
            "2        42    32.5          40.0        12      31.0    18735872   \n",
            "3        60    28.0          35.5        24      51.0    20147917   \n",
            "4        51    36.5          49.5        21      44.5    40241611   \n",
            "\n",
            "     Incidence  PrevalencePercent  IncidencePercent  PrevalenceRate  \\\n",
            "0  5892097.137           0.128248          0.565237        0.036245   \n",
            "1    67134.000           0.018791          0.006440        0.005311   \n",
            "2  1418389.000           0.201970          0.136068        0.057080   \n",
            "3  1322417.000           0.217192          0.126861        0.061382   \n",
            "4  1724082.000           0.433799          0.165394        0.122598   \n",
            "\n",
            "   IncidenceRate  \n",
            "0       0.017951  \n",
            "1       0.000205  \n",
            "2       0.004321  \n",
            "3       0.004029  \n",
            "4       0.005253  \n"
          ]
        }
      ]
    },
    {
      "cell_type": "code",
      "source": [
        "personal_disease_history = [0]*5 # Store personal histroy of disease, 0 if never been diagnosed with disease, 1 for has been diagnosed with disease\n",
        "numberInputs = 10 # Number of allowed inputs\n",
        "for x in range(numberInputs):\n",
        "  userInput = input(\"Have you ever been diagnosed with any of the following diseases:\\n1) Cancer \\n2) AIDS \\n3) Heart Disease \\n4) COPD \\n5) Renal Disease\\nType 'end' or 'quit' to finish putting in medical history\\n\")\n",
        "  determineInput_PersonalMedicalHistory()\n",
        "  if userInput == \"quit\" or userInput == \"end\" or userInput == \"Quit\" or userInput == \"End\":\n",
        "    break\n",
        "\n",
        "print(\"Personal Disease History: \", personal_disease_history)"
      ],
      "metadata": {
        "colab": {
          "base_uri": "https://localhost:8080/"
        },
        "id": "uHwWAIlV9wF7",
        "outputId": "30580779-d6cb-428f-8f8a-ee3fe76c91c1"
      },
      "execution_count": 13,
      "outputs": [
        {
          "output_type": "stream",
          "name": "stdout",
          "text": [
            "Have you ever been diagnosed with any of the following diseases:\n",
            "1) Cancer \n",
            "2) AIDS \n",
            "3) Heart Disease \n",
            "4) COPD \n",
            "5) Renal Disease\n",
            "Type 'end' or 'quit' to finish putting in medical history\n",
            "5\n",
            "You have entered Renal Disease as something that you have been diagnosed with in the past.\n",
            "\n",
            "\n",
            "Have you ever been diagnosed with any of the following diseases:\n",
            "1) Cancer \n",
            "2) AIDS \n",
            "3) Heart Disease \n",
            "4) COPD \n",
            "5) Renal Disease\n",
            "Type 'end' or 'quit' to finish putting in medical history\n",
            "end\n",
            "Thank you for inputting your personal medical history.\n",
            "Personal Disease History:  [0, 0, 0, 0, 1]\n"
          ]
        }
      ]
    },
    {
      "cell_type": "code",
      "source": [
        "family_disease_history = [0]*5 # Store family histroy of disease, 0 for no disease in family history, 1 for has disease in family history\n",
        "numberInputs = 10 # Number of allowed inputs\n",
        "for x in range(numberInputs):\n",
        "  userInput = input(\"Have any of your blood relatives been diagnosed with any of the following diseases:\\n1) Cancer \\n2) AIDS \\n3) Heart Disease \\n4) COPD \\n5) Renal Disease\\nType 'end' or 'quit' to finish putting in medical history\\n\")\n",
        "  determineInput_FamilyMedicalHistory()\n",
        "  if userInput == \"quit\" or userInput == \"end\" or userInput == \"Quit\" or userInput == \"End\":\n",
        "    break\n",
        "\n",
        "print(\"Family Disease History: \", family_disease_history)\n",
        "\n"
      ],
      "metadata": {
        "colab": {
          "base_uri": "https://localhost:8080/"
        },
        "id": "ne4wueXJ0K5Y",
        "outputId": "b2af50cf-3210-4f01-ed3a-4f6ce526197d"
      },
      "execution_count": 14,
      "outputs": [
        {
          "output_type": "stream",
          "name": "stdout",
          "text": [
            "Have any of your blood relatives been diagnosed with any of the following diseases:\n",
            "1) Cancer \n",
            "2) AIDS \n",
            "3) Heart Disease \n",
            "4) COPD \n",
            "5) Renal Disease\n",
            "Type 'end' or 'quit' to finish putting in medical history\n",
            "3\n",
            "You have entered Heart Disease as something one of your family members has been diagnosed with.\n",
            "\n",
            "\n",
            "Have any of your blood relatives been diagnosed with any of the following diseases:\n",
            "1) Cancer \n",
            "2) AIDS \n",
            "3) Heart Disease \n",
            "4) COPD \n",
            "5) Renal Disease\n",
            "Type 'end' or 'quit' to finish putting in medical history\n",
            "end\n",
            "Thank you for inputting your family medical history.\n",
            "Family Disease History:  [0, 0, 1, 0, 0]\n"
          ]
        }
      ]
    },
    {
      "cell_type": "code",
      "source": [
        "symptoms = [0]*11\n",
        "numberInputs = 20\n",
        "for x in range(numberInputs):\n",
        "  userInput = input(\"Please choose from the following possible symptoms that you are experiencing:\\n1) Pain \\n2) Depression \\n3) Anxiety \\n4) Confusion \\n5) Fatigue \\n6) Breathlessness \\n7) Insomnia \\n8) Nausea \\n9) Constipation \\n10) Diarrhea \\n11) Anorexia\\nType 'end' or 'quit' to finish putting in symptoms\\n\")\n",
        "  determineInput_Symptoms()\n",
        "  if userInput == \"quit\" or userInput == \"end\" or userInput == \"Quit\" or userInput == \"End\":\n",
        "    break\n",
        "\n",
        "print(symptoms)"
      ],
      "metadata": {
        "colab": {
          "base_uri": "https://localhost:8080/"
        },
        "id": "xfu7SzCTNiNd",
        "outputId": "75b4a017-6f01-4474-f0bf-1f215446db15"
      },
      "execution_count": 15,
      "outputs": [
        {
          "output_type": "stream",
          "name": "stdout",
          "text": [
            "Please choose from the following possible symptoms that you are experiencing:\n",
            "1) Pain \n",
            "2) Depression \n",
            "3) Anxiety \n",
            "4) Confusion \n",
            "5) Fatigue \n",
            "6) Breathlessness \n",
            "7) Insomnia \n",
            "8) Nausea \n",
            "9) Constipation \n",
            "10) Diarrhea \n",
            "11) Anorexia\n",
            "Type 'end' or 'quit' to finish putting in symptoms\n",
            "3\n",
            "You have input anxiety as one of your symptoms.\n",
            "\n",
            "\n",
            "Please choose from the following possible symptoms that you are experiencing:\n",
            "1) Pain \n",
            "2) Depression \n",
            "3) Anxiety \n",
            "4) Confusion \n",
            "5) Fatigue \n",
            "6) Breathlessness \n",
            "7) Insomnia \n",
            "8) Nausea \n",
            "9) Constipation \n",
            "10) Diarrhea \n",
            "11) Anorexia\n",
            "Type 'end' or 'quit' to finish putting in symptoms\n",
            "Insomnia\n",
            "You have input insomnia as one of your symptoms.\n",
            "\n",
            "\n",
            "Please choose from the following possible symptoms that you are experiencing:\n",
            "1) Pain \n",
            "2) Depression \n",
            "3) Anxiety \n",
            "4) Confusion \n",
            "5) Fatigue \n",
            "6) Breathlessness \n",
            "7) Insomnia \n",
            "8) Nausea \n",
            "9) Constipation \n",
            "10) Diarrhea \n",
            "11) Anorexia\n",
            "Type 'end' or 'quit' to finish putting in symptoms\n",
            "diarrhea\n",
            "You have input diarrhea as one of your symptoms.\n",
            "\n",
            "\n",
            "Please choose from the following possible symptoms that you are experiencing:\n",
            "1) Pain \n",
            "2) Depression \n",
            "3) Anxiety \n",
            "4) Confusion \n",
            "5) Fatigue \n",
            "6) Breathlessness \n",
            "7) Insomnia \n",
            "8) Nausea \n",
            "9) Constipation \n",
            "10) Diarrhea \n",
            "11) Anorexia\n",
            "Type 'end' or 'quit' to finish putting in symptoms\n",
            "11)\n",
            "You have input anorexia as one of your symptoms.\n",
            "\n",
            "\n",
            "Please choose from the following possible symptoms that you are experiencing:\n",
            "1) Pain \n",
            "2) Depression \n",
            "3) Anxiety \n",
            "4) Confusion \n",
            "5) Fatigue \n",
            "6) Breathlessness \n",
            "7) Insomnia \n",
            "8) Nausea \n",
            "9) Constipation \n",
            "10) Diarrhea \n",
            "11) Anorexia\n",
            "Type 'end' or 'quit' to finish putting in symptoms\n",
            "end\n",
            "Thank you for inputting your symptoms.\n",
            "[0, 0, 1, 0, 0, 0, 1, 0, 0, 1, 1]\n"
          ]
        }
      ]
    },
    {
      "cell_type": "code",
      "source": [
        "prevalence_patient_disease = prevalence\n",
        "\n",
        "# Display the personal disease history of the user\n",
        "if(sum(personal_disease_history) > 0):\n",
        "  print(\"You have been diagnosed with the following diseases:\")\n",
        "  if personal_disease_history[0] == 1:\n",
        "    print(\"Cancer\")\n",
        "  if personal_disease_history[1] == 1:\n",
        "    print(\"AIDS\")\n",
        "  if personal_disease_history[2] == 1:\n",
        "    print(\"Heart Disease\")\n",
        "  if personal_disease_history[3] == 1:\n",
        "    print(\"COPD\")\n",
        "  if personal_disease_history[4] == 1:\n",
        "    print(\"Renal Disease\")\n",
        "  print(\"\\n\")\n",
        "\n",
        "# Display the family disease history of the user\n",
        "if(sum(family_disease_history) > 0):\n",
        "  print(\"One of your blood relatives have been diagnosed with the following diseases:\")\n",
        "  if family_disease_history[0] == 1:\n",
        "    print(\"Cancer\")\n",
        "  if family_disease_history[1] == 1:\n",
        "    print(\"AIDS\")\n",
        "  if family_disease_history[2] == 1:\n",
        "    print(\"Heart Disease\")\n",
        "  if family_disease_history[3] == 1:\n",
        "    print(\"COPD\")\n",
        "  if family_disease_history[4] == 1:\n",
        "    print(\"Renal Disease\")\n",
        "  print(\"\\n\")\n",
        "\n",
        "# Display the symptoms listed by the user and adjust prevalence rates for each disease based upon having that symptom\n",
        "print(\"Your Sypmtoms include:\")\n",
        "if symptoms[0] == 1:\n",
        "  prevalence_patient_disease = prevalence_patient_disease * df['Pain']/100\n",
        "  print(\"Pain\")\n",
        "if symptoms[1] == 1:\n",
        "  print(\"Depression\")\n",
        "  prevalence_patient_disease = prevalence_patient_disease * df['Depression']/100\n",
        "if symptoms[2] == 1:\n",
        "  print(\"Anxiety\")\n",
        "  prevalence_patient_disease = prevalence_patient_disease * df['Anxiety']/100\n",
        "if symptoms[3] == 1:\n",
        "  print(\"Confusion\")\n",
        "  prevalence_patient_disease = prevalence_patient_disease * df['Confusion']/100\n",
        "if symptoms[4] == 1:\n",
        "  print(\"Fatigue\")\n",
        "  prevalence_patient_disease = prevalence_patient_disease * df['Fatigue']/100\n",
        "if symptoms[5] == 1:\n",
        "  print(\"Breathlessness\")\n",
        "  prevalence_patient_disease = prevalence_patient_disease * df['Breathlessness']/100\n",
        "if symptoms[6] == 1:\n",
        "  print(\"Insomnia\")\n",
        "  prevalence_patient_disease = prevalence_patient_disease * df['Insomnia']/100\n",
        "if symptoms[7] == 1:\n",
        "  print(\"Nausea\")\n",
        "  prevalence_patient_disease = prevalence_patient_disease * df['Nausea']/100\n",
        "if symptoms[8] == 1:\n",
        "  print(\"Constipation\")\n",
        "  prevalence_patient_disease = prevalence_patient_disease * df['Constipation']/100\n",
        "if symptoms[9] == 1:\n",
        "  print(\"Diarrhea\")\n",
        "  prevalence_patient_disease = prevalence_patient_disease * df['Diarrhea']/100\n",
        "if symptoms[10] == 1:\n",
        "  print(\"Anorexia\")\n",
        "  prevalence_patient_disease = prevalence_patient_disease * df['Anorexia']/100\n",
        "\n",
        "# Display the updated prevalence values following adjustments made due to symptoms experienced by user\n",
        "print(\"\\n\")\n",
        "print(\"Adjusted prevalence numbers based on symptoms:\")\n",
        "print(prevalence_patient_disease)\n",
        "\n",
        "# Find and display the updated percent chance of having each disease\n",
        "percent_prevalence = prevalence_patient_disease/prevalence_patient_disease.sum()\n",
        "print(\"\\n\")\n",
        "print(\"Adjusted prevalence percents based on symptoms:\")\n",
        "print(percent_prevalence)"
      ],
      "metadata": {
        "colab": {
          "base_uri": "https://localhost:8080/"
        },
        "id": "nklvkMxBGuQx",
        "outputId": "68e2c556-e72b-403e-878d-becc01ac3fe1"
      },
      "execution_count": 16,
      "outputs": [
        {
          "output_type": "stream",
          "name": "stdout",
          "text": [
            "You have been diagnosed with the following diseases:\n",
            "Renal Disease\n",
            "\n",
            "\n",
            "One of your blood relatives have been diagnosed with the following diseases:\n",
            "Heart Disease\n",
            "\n",
            "\n",
            "Your Sypmtoms include:\n",
            "Anxiety\n",
            "Insomnia\n",
            "Diarrhea\n",
            "Anorexia\n",
            "\n",
            "\n",
            "Adjusted prevalence numbers based on symptoms:\n",
            "0    2.083095e+05\n",
            "1    8.288992e+04\n",
            "2    1.434373e+05\n",
            "3    9.321877e+05\n",
            "4    1.045253e+06\n",
            "dtype: float64\n",
            "\n",
            "\n",
            "Adjusted prevalence percents based on symptoms:\n",
            "0    0.086361\n",
            "1    0.034365\n",
            "2    0.059466\n",
            "3    0.386467\n",
            "4    0.433341\n",
            "dtype: float64\n"
          ]
        }
      ]
    },
    {
      "cell_type": "code",
      "source": [
        "# Function to take input from user on family medical history\n",
        "def determineInput_FamilyMedicalHistory():\n",
        "  if userInput == \"1\" or userInput == \"1.\" or userInput == \"1)\" or userInput == \"Cancer\" or userInput == \"cancer\":\n",
        "    family_disease_history[0] = 1\n",
        "    print(\"You have entered cancer as something one of your family members has been diagnosed with.\\n\\n\")\n",
        "  elif userInput == \"2\" or userInput == \"2.\" or userInput == \"2)\" or userInput == \"AIDS\" or userInput == \"AIDS\":\n",
        "    family_disease_history[1] = 1\n",
        "    print(\"You have entered AIDS as something one of your family members has been diagnosed with.\\n\\n\")\n",
        "  elif userInput == \"3\" or userInput == \"3.\" or userInput == \"3)\" or userInput == \"Heart Disease\" or userInput == \"heart disease\":\n",
        "    family_disease_history[2] = 1\n",
        "    print(\"You have entered Heart Disease as something one of your family members has been diagnosed with.\\n\\n\")\n",
        "  elif userInput == \"4\" or userInput == \"4.\" or userInput == \"4)\" or userInput == \"COPD\" or userInput == \"COPD\":\n",
        "    family_disease_history[3] = 1\n",
        "    print(\"You have entered COPD as something one of your family members has been diagnosed with.\\n\\n\")\n",
        "  elif userInput == \"5\" or userInput == \"5.\" or userInput == \"5)\" or userInput == \"Renal Disease\" or userInput == \"Renal Disease\":\n",
        "    family_disease_history[4] = 1\n",
        "    print(\"You have entered Renal Disease as something one of your family members has been diagnosed with.\\n\\n\")\n",
        "  elif userInput == \"quit\" or userInput == \"end\" or userInput == \"Quit\" or userInput == \"End\":\n",
        "    print(\"Thank you for inputting your family medical history.\")\n",
        "  else:\n",
        "    print(\"Input not understood. Please try again.\")"
      ],
      "metadata": {
        "id": "SvxbBctIzwHu"
      },
      "execution_count": 12,
      "outputs": []
    },
    {
      "cell_type": "code",
      "source": [
        "# Function to take input from user on personal medical history\n",
        "def determineInput_PersonalMedicalHistory():\n",
        "  if userInput == \"1\" or userInput == \"1.\" or userInput == \"1)\" or userInput == \"Cancer\" or userInput == \"cancer\":\n",
        "    personal_disease_history[0] = 1\n",
        "    print(\"You have entered cancer as something that you have been diagnosed with in the past.\\n\\n\")\n",
        "  elif userInput == \"2\" or userInput == \"2.\" or userInput == \"2)\" or userInput == \"AIDS\" or userInput == \"AIDS\":\n",
        "    personal_disease_history[1] = 1\n",
        "    print(\"You have entered AIDS as something that you have been diagnosed with in the past.\\n\\n\")\n",
        "  elif userInput == \"3\" or userInput == \"3.\" or userInput == \"3)\" or userInput == \"Heart Disease\" or userInput == \"heart disease\":\n",
        "    personal_disease_history[2] = 1\n",
        "    print(\"You have entered Heart Disease as something that you have been diagnosed with in the past.\\n\\n\")\n",
        "  elif userInput == \"4\" or userInput == \"4.\" or userInput == \"4)\" or userInput == \"COPD\" or userInput == \"COPD\":\n",
        "    personal_disease_history[3] = 1\n",
        "    print(\"You have entered COPD as something that you have been diagnosed with in the past.\\n\\n\")\n",
        "  elif userInput == \"5\" or userInput == \"5.\" or userInput == \"5)\" or userInput == \"Renal Disease\" or userInput == \"Renal Disease\":\n",
        "    personal_disease_history[4] = 1\n",
        "    print(\"You have entered Renal Disease as something that you have been diagnosed with in the past.\\n\\n\")\n",
        "  elif userInput == \"quit\" or userInput == \"end\" or userInput == \"Quit\" or userInput == \"End\":\n",
        "    print(\"Thank you for inputting your personal medical history.\")\n",
        "  else:\n",
        "    print(\"Input not understood. Please try again.\")"
      ],
      "metadata": {
        "id": "Ab1Pd_Ma4Cgp"
      },
      "execution_count": 10,
      "outputs": []
    },
    {
      "cell_type": "code",
      "source": [
        "# Function to take input from user on symptoms they are experiencing\n",
        "def determineInput_Symptoms():\n",
        "  if userInput == \"1\" or userInput == \"1.\" or userInput == \"1)\" or userInput == \"Pain\" or userInput == \"pain\":\n",
        "    symptoms[0] = 1\n",
        "    print(\"You have input pain as one of your symptoms.\\n\\n\")\n",
        "  elif userInput == \"2\" or userInput == \"2.\" or userInput == \"2)\" or userInput == \"Depression\" or userInput == \"depression\":\n",
        "    symptoms[1] = 1\n",
        "    print(\"You have input depression as one of your symptoms.\\n\\n\")\n",
        "  elif userInput == \"3\" or userInput == \"3.\" or userInput == \"3)\" or userInput == \"Anxiety\" or userInput == \"anxiety\":\n",
        "    symptoms[2] = 1\n",
        "    print(\"You have input anxiety as one of your symptoms.\\n\\n\")\n",
        "  elif userInput == \"4\" or userInput == \"4.\" or userInput == \"4)\" or userInput == \"Confusion\" or userInput == \"confusion\":\n",
        "    symptoms[3] = 1\n",
        "    print(\"You have input confusion as one of your symptoms.\\n\\n\")\n",
        "  elif userInput == \"5\" or userInput == \"5.\" or userInput == \"5)\" or userInput == \"Fatigue\" or userInput == \"fatigue\":\n",
        "    symptoms[4] = 1\n",
        "    print(\"You have input fatigue as one of your symptoms.\\n\\n\")\n",
        "  elif userInput == \"6\" or userInput == \"6.\" or userInput == \"6)\" or userInput == \"Breathlessness\" or userInput == \"breathlessness\":\n",
        "    symptoms[5] = 1\n",
        "    print(\"You have input breathlessness as one of your symptoms.\\n\\n\")\n",
        "  elif userInput == \"7\" or userInput == \"7.\" or userInput == \"7)\" or userInput == \"Insomnia\" or userInput == \"insomnia\":\n",
        "    symptoms[6] = 1\n",
        "    print(\"You have input insomnia as one of your symptoms.\\n\\n\")\n",
        "  elif userInput == \"8\" or userInput == \"8.\" or userInput == \"8)\" or userInput == \"Nausea\" or userInput == \"nausea\":\n",
        "    symptoms[7] = 1\n",
        "    print(\"You have input nausea as one of your symptoms.\\n\\n\")\n",
        "  elif userInput == \"9\" or userInput == \"9.\" or userInput == \"9)\" or userInput == \"Constipation\" or userInput == \"constipation\":\n",
        "    symptoms[8] = 1\n",
        "    print(\"You have input constipation as one of your symptoms.\\n\\n\")\n",
        "  elif userInput == \"10\" or userInput == \"10.\" or userInput == \"10)\" or userInput == \"Diarrhea\" or userInput == \"diarrhea\":\n",
        "    symptoms[9] = 1\n",
        "    print(\"You have input diarrhea as one of your symptoms.\\n\\n\")\n",
        "  elif userInput == \"11\" or userInput == \"11.\" or userInput == \"11)\" or userInput == \"Anorexia\" or userInput == \"anorexia\":\n",
        "    symptoms[10] = 1\n",
        "    print(\"You have input anorexia as one of your symptoms.\\n\\n\")\n",
        "  elif userInput == \"quit\" or userInput == \"end\" or userInput == \"Quit\" or userInput == \"End\":\n",
        "    print(\"Thank you for inputting your symptoms.\")\n",
        "    ##Might do next step here\n",
        "  else:\n",
        "    print(\"Input not understood. Please try again.\")\n"
      ],
      "metadata": {
        "id": "GLlqcNOLGrBH"
      },
      "execution_count": 11,
      "outputs": []
    }
  ]
}