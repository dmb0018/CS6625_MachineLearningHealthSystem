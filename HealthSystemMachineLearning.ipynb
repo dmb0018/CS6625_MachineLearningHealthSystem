{
  "nbformat": 4,
  "nbformat_minor": 0,
  "metadata": {
    "colab": {
      "provenance": [],
      "authorship_tag": "ABX9TyODcVmMsF+y/bs2JAAlEyG1",
      "include_colab_link": true
    },
    "kernelspec": {
      "name": "python3",
      "display_name": "Python 3"
    },
    "language_info": {
      "name": "python"
    }
  },
  "cells": [
    {
      "cell_type": "markdown",
      "metadata": {
        "id": "view-in-github",
        "colab_type": "text"
      },
      "source": [
        "<a href=\"https://colab.research.google.com/github/dmb0018/CS6625_MachineLearningHealthSystem/blob/main/HealthSystemMachineLearning.ipynb\" target=\"_parent\"><img src=\"https://colab.research.google.com/assets/colab-badge.svg\" alt=\"Open In Colab\"/></a>"
      ]
    },
    {
      "cell_type": "markdown",
      "source": [
        "David Bryant\n",
        "CS 6625 - Specialized Study\n",
        "Machine Learning Health System"
      ],
      "metadata": {
        "id": "CED2aff4N5j7"
      }
    },
    {
      "cell_type": "code",
      "source": [
        "from google.colab import drive\n",
        "drive.mount('/content/drive')"
      ],
      "metadata": {
        "colab": {
          "base_uri": "https://localhost:8080/"
        },
        "id": "qkzSPJaORId8",
        "outputId": "143d5218-b854-4899-8f39-7d6fe4bdc70b"
      },
      "execution_count": 1,
      "outputs": [
        {
          "output_type": "stream",
          "name": "stdout",
          "text": [
            "Mounted at /content/drive\n"
          ]
        }
      ]
    },
    {
      "cell_type": "code",
      "source": [
        "import pandas as pd\n",
        "import pylab as pl\n",
        "import numpy as np\n",
        "from sklearn.linear_model import LinearRegression\n",
        "import sys\n",
        "\n",
        "# Upload two csv files\n",
        "path_train = \"/content/drive/My Drive/RawData.csv\"\n",
        "df = pd.read_csv(path_train)\n",
        "\n",
        "\n",
        "# Find number of rows and columns for the data\n",
        "num_rows = df.shape[0]\n",
        "num_columns = df.shape[1]\n",
        "\n",
        "#Make display show all rows and columns\n",
        "pd.options.display.max_rows = None\n",
        "pd.options.display.max_columns = None\n",
        "\n",
        "# Set printing options to only show 10 lines\n",
        "np.set_printoptions(threshold=10)\n",
        "\n",
        "\n",
        "diseases = df['Disease']\n",
        "prevalence = df['Prevalence']\n",
        "incidence = df['Incidence']\n",
        "\n",
        "# Find totals for prevalence and incidence of the five different diseases\n",
        "prevalence_total = prevalence.sum()\n",
        "incidence_total = incidence.sum()\n",
        "\n",
        "# Create new columns in data frame that show how much each disease is of the total percent\n",
        "df['PrevalencePercent'] = df['Prevalence']/prevalence_total\n",
        "df['IncidencePercent'] = df['Incidence']/incidence_total\n",
        "\n",
        "US_population_2019 = 328000000\n",
        "df['PrevalenceRate'] = df['Prevalence']/US_population_2019\n",
        "df['IncidenceRate'] = df['Incidence']/US_population_2019\n",
        "\n",
        "print(df.head(5))"
      ],
      "metadata": {
        "colab": {
          "base_uri": "https://localhost:8080/"
        },
        "id": "vWKPH76iQITZ",
        "outputId": "1d81d0ee-08d5-42db-8efa-048536ba7a4c"
      },
      "execution_count": 3,
      "outputs": [
        {
          "output_type": "stream",
          "name": "stdout",
          "text": [
            "  Disease  Pain  PainDif  Depression  DepressionDif  Anxiety  AnxietyDif  \\\n",
            "0  Cancer  65.5       61        40.0             74     46.0          66   \n",
            "1    AIDS  71.5       17        46.0             72     21.0          26   \n",
            "2      HD  59.0       36        22.5             27     49.0           0   \n",
            "3    COPD  55.5       43        54.0             34     63.0          24   \n",
            "4      RD  48.5        3        32.5             55     54.5          31   \n",
            "\n",
            "  Confusion ConfusionDif  Fatigue  FatigueDif  Breathlessness  \\\n",
            "0      49.5           87     61.0          58            40.0   \n",
            "1      47.5           35     69.5          31            36.5   \n",
            "2        25           14     75.5          13            74.0   \n",
            "3      25.5           15     74.0          12            92.5   \n",
            "4         -            -     80.0          14            36.5   \n",
            "\n",
            "   BreathlessnessDif  Insomnia  InsomniaDif Nausea NauseaDif  Constipation  \\\n",
            "0                 60        39           60     37        62          44.0   \n",
            "1                 51        74            0     46         6          34.5   \n",
            "2                 28        42           12   32.5        31          40.0   \n",
            "3                  5        60           10      -         -          35.5   \n",
            "4                 51        51           40   36.5        13          49.5   \n",
            "\n",
            "   ConstipationDif Diarrhea DiarrheaDif  Anorexia  AnorexiaDif  Prevalence  \\\n",
            "0               42       16          26      61.0           62    11896983   \n",
            "1                1       60          60      51.0            0     1743128   \n",
            "2                4       12           0      31.0           20    18735872   \n",
            "3               17        -           -      51.0           32    20147917   \n",
            "4               41       21           0      44.5           39    40241611   \n",
            "\n",
            "     Incidence  PrevalencePercent  IncidencePercent  PrevalenceRate  \\\n",
            "0  5892097.137           0.128248          0.565237        0.036271   \n",
            "1    67134.000           0.018791          0.006440        0.005314   \n",
            "2  1418389.000           0.201970          0.136068        0.057122   \n",
            "3  1322417.000           0.217192          0.126861        0.061427   \n",
            "4  1724082.000           0.433799          0.165394        0.122688   \n",
            "\n",
            "   IncidenceRate  \n",
            "0       0.017964  \n",
            "1       0.000205  \n",
            "2       0.004324  \n",
            "3       0.004032  \n",
            "4       0.005256  \n"
          ]
        }
      ]
    },
    {
      "cell_type": "code",
      "source": [
        "def determineInput():\n",
        "  if userInput == \"1\" or userInput == \"1.\" or userInput == \"1)\" or userInput == \"Pain\" or userInput == \"pain\":\n",
        "    symptoms[0] = 1\n",
        "    print(\"You have input pain as one of your symptoms.\\n\\n\")\n",
        "  elif userInput == \"2\" or userInput == \"2.\" or userInput == \"2)\" or userInput == \"Depression\" or userInput == \"depression\":\n",
        "    symptoms[1] = 1\n",
        "    print(\"You have input depression as one of your symptoms.\\n\\n\")\n",
        "  elif userInput == \"3\" or userInput == \"3.\" or userInput == \"3)\" or userInput == \"Anxiety\" or userInput == \"anxiety\":\n",
        "    symptoms[2] = 1\n",
        "    print(\"You have input anxiety as one of your symptoms.\\n\\n\")\n",
        "  elif userInput == \"4\" or userInput == \"4.\" or userInput == \"4)\" or userInput == \"Confusion\" or userInput == \"confusion\":\n",
        "    symptoms[3] = 1\n",
        "    print(\"You have input confusion as one of your symptoms.\\n\\n\")\n",
        "  elif userInput == \"5\" or userInput == \"5.\" or userInput == \"5)\" or userInput == \"Fatigue\" or userInput == \"fatigue\":\n",
        "    symptoms[4] = 1\n",
        "    print(\"You have input fatigue as one of your symptoms.\\n\\n\")\n",
        "  elif userInput == \"6\" or userInput == \"6.\" or userInput == \"6)\" or userInput == \"Breathlessness\" or userInput == \"breathlessness\":\n",
        "    symptoms[5] = 1\n",
        "    print(\"You have input breathlessness as one of your symptoms.\\n\\n\")\n",
        "  elif userInput == \"7\" or userInput == \"7.\" or userInput == \"7)\" or userInput == \"Insomnia\" or userInput == \"insomnia\":\n",
        "    symptoms[6] = 1\n",
        "    print(\"You have input insomnia as one of your symptoms.\\n\\n\")\n",
        "  elif userInput == \"8\" or userInput == \"8.\" or userInput == \"8)\" or userInput == \"Nausea\" or userInput == \"nausea\":\n",
        "    symptoms[7] = 1\n",
        "    print(\"You have input nausea as one of your symptoms.\\n\\n\")\n",
        "  elif userInput == \"9\" or userInput == \"9.\" or userInput == \"9)\" or userInput == \"Constipation\" or userInput == \"constipation\":\n",
        "    symptoms[8] = 1\n",
        "    print(\"You have input constipation as one of your symptoms.\\n\\n\")\n",
        "  elif userInput == \"10\" or userInput == \"10.\" or userInput == \"10)\" or userInput == \"Diarrhea\" or userInput == \"diarrhea\":\n",
        "    symptoms[9] = 1\n",
        "    print(\"You have input diarrhea as one of your symptoms.\\n\\n\")\n",
        "  elif userInput == \"11\" or userInput == \"11.\" or userInput == \"11)\" or userInput == \"Anorexia\" or userInput == \"anorexia\":\n",
        "    symptoms[10] = 1\n",
        "    print(\"You have input anorexia as one of your symptoms.\\n\\n\")\n",
        "  elif userInput == \"quit\" or userInput == \"end\" or userInput == \"Quit\" or userInput == \"End\":\n",
        "    print(\"Thank you for inputting your symptoms.\")\n",
        "    ##Might do next step here\n",
        "  else:\n",
        "    print(\"Input not understood. Please try again.\")\n"
      ],
      "metadata": {
        "id": "GLlqcNOLGrBH"
      },
      "execution_count": 4,
      "outputs": []
    },
    {
      "cell_type": "code",
      "source": [
        "symptoms = [0]*11\n",
        "numberInputs = 20\n",
        "for x in range(numberInputs):\n",
        "  userInput = input(\"Please choose from the following possible symptoms that you are experiencing:\\n1) Pain \\n2) Depression \\n3) Anxiety \\n4) Confusion \\n5) Fatigue \\n6) Breathlessness \\n7) Insomnia \\n8) Nausea \\n9) Constipation \\n10) Diarrhea \\n11) Anorexia\\nType 'end' or 'quit' to finish putting in symptoms\\n\")\n",
        "  determineInput()\n",
        "  if userInput == \"quit\" or userInput == \"end\" or userInput == \"Quit\" or userInput == \"End\":\n",
        "    break\n",
        "\n",
        "print(symptoms)"
      ],
      "metadata": {
        "colab": {
          "base_uri": "https://localhost:8080/"
        },
        "id": "xfu7SzCTNiNd",
        "outputId": "21b6088a-f4bc-440d-b205-25238eed09f4"
      },
      "execution_count": 5,
      "outputs": [
        {
          "output_type": "stream",
          "name": "stdout",
          "text": [
            "Please choose from the following possible symptoms that you are experiencing:\n",
            "1) Pain \n",
            "2) Depression \n",
            "3) Anxiety \n",
            "4) Confusion \n",
            "5) Fatigue \n",
            "6) Breathlessness \n",
            "7) Insomnia \n",
            "8) Nausea \n",
            "9) Constipation \n",
            "10) Diarrhea \n",
            "11) Anorexia\n",
            "Type 'end' or 'quit' to finish putting in symptoms\n",
            "6\n",
            "You have input breathlessness as one of your symptoms.\n",
            "\n",
            "\n",
            "Please choose from the following possible symptoms that you are experiencing:\n",
            "1) Pain \n",
            "2) Depression \n",
            "3) Anxiety \n",
            "4) Confusion \n",
            "5) Fatigue \n",
            "6) Breathlessness \n",
            "7) Insomnia \n",
            "8) Nausea \n",
            "9) Constipation \n",
            "10) Diarrhea \n",
            "11) Anorexia\n",
            "Type 'end' or 'quit' to finish putting in symptoms\n",
            "9\n",
            "You have input constipation as one of your symptoms.\n",
            "\n",
            "\n",
            "Please choose from the following possible symptoms that you are experiencing:\n",
            "1) Pain \n",
            "2) Depression \n",
            "3) Anxiety \n",
            "4) Confusion \n",
            "5) Fatigue \n",
            "6) Breathlessness \n",
            "7) Insomnia \n",
            "8) Nausea \n",
            "9) Constipation \n",
            "10) Diarrhea \n",
            "11) Anorexia\n",
            "Type 'end' or 'quit' to finish putting in symptoms\n",
            "11\n",
            "You have input anorexia as one of your symptoms.\n",
            "\n",
            "\n",
            "Please choose from the following possible symptoms that you are experiencing:\n",
            "1) Pain \n",
            "2) Depression \n",
            "3) Anxiety \n",
            "4) Confusion \n",
            "5) Fatigue \n",
            "6) Breathlessness \n",
            "7) Insomnia \n",
            "8) Nausea \n",
            "9) Constipation \n",
            "10) Diarrhea \n",
            "11) Anorexia\n",
            "Type 'end' or 'quit' to finish putting in symptoms\n",
            "end\n",
            "Thank you for inputting your symptoms.\n",
            "[0, 0, 0, 0, 0, 1, 0, 0, 1, 0, 1]\n"
          ]
        }
      ]
    },
    {
      "cell_type": "code",
      "source": [
        "prevalence_patient_disease = prevalence\n",
        "\n",
        "print(\"Your Sypmtoms include:\")\n",
        "if symptoms[0] == 1:\n",
        "  prevalence_patient_disease = prevalence_patient_disease * df['Pain']/100\n",
        "  print(\"Pain\")\n",
        "if symptoms[1] == 1:\n",
        "  print(\"Depression\")\n",
        "  prevalence_patient_disease = prevalence_patient_disease * df['Depression']/100\n",
        "if symptoms[2] == 1:\n",
        "  print(\"Anxiety\")\n",
        "  prevalence_patient_disease = prevalence_patient_disease * df['Anxiety']/100\n",
        "if symptoms[3] == 1:\n",
        "  print(\"Confusion\")\n",
        "  prevalence_patient_disease = prevalence_patient_disease * df['Confusion']/100\n",
        "if symptoms[4] == 1:\n",
        "  print(\"Fatigue\")\n",
        "  prevalence_patient_disease = prevalence_patient_disease * df['Fatigue']/100\n",
        "if symptoms[5] == 1:\n",
        "  print(\"Breathlessness\")\n",
        "  prevalence_patient_disease = prevalence_patient_disease * df['Breathlessness']/100\n",
        "if symptoms[6] == 1:\n",
        "  print(\"Insomnia\")\n",
        "  prevalence_patient_disease = prevalence_patient_disease * df['Insomnia']/100\n",
        "if symptoms[7] == 1:\n",
        "  print(\"Nausea\")\n",
        "  prevalence_patient_disease = prevalence_patient_disease * df['Nausea']/100\n",
        "if symptoms[8] == 1:\n",
        "  print(\"Constipation\")\n",
        "  prevalence_patient_disease = prevalence_patient_disease * df['Constipation']/100\n",
        "if symptoms[9] == 1:\n",
        "  print(\"Diarrhea\")\n",
        "  prevalence_patient_disease = prevalence_patient_disease * df['Diarrhea']/100\n",
        "if symptoms[10] == 1:\n",
        "  print(\"Anorexia\")\n",
        "  prevalence_patient_disease = prevalence_patient_disease * df['Anorexia']/100\n",
        "print(\"\\n\")\n",
        "print(\"Adjusted prevalence numbers based on symptoms:\")\n",
        "print(prevalence_patient_disease)\n",
        "\n",
        "\n",
        "percent_prevalence = prevalence_patient_disease/prevalence_patient_disease.sum()\n",
        "\n",
        "print(\"\\n\")\n",
        "print(\"Adjusted prevalence percents based on symptoms:\")\n",
        "print(percent_prevalence)"
      ],
      "metadata": {
        "colab": {
          "base_uri": "https://localhost:8080/"
        },
        "id": "nklvkMxBGuQx",
        "outputId": "dda500bf-bc8e-46d9-f017-257928a6bf87"
      },
      "execution_count": 11,
      "outputs": [
        {
          "output_type": "stream",
          "name": "stdout",
          "text": [
            "Your Sypmtoms include:\n",
            "Breathlessness\n",
            "Constipation\n",
            "Anorexia\n",
            "\n",
            "\n",
            "Adjusted prevalence numbers based on symptoms:\n",
            "0    1.277260e+06\n",
            "1    1.119467e+05\n",
            "2    1.719204e+06\n",
            "3    3.374197e+06\n",
            "4    3.235441e+06\n",
            "dtype: float64\n",
            "\n",
            "\n",
            "Adjusted prevalence percents based on symptoms:\n",
            "0    0.131432\n",
            "1    0.011519\n",
            "2    0.176908\n",
            "3    0.347209\n",
            "4    0.332931\n",
            "dtype: float64\n"
          ]
        }
      ]
    }
  ]
}